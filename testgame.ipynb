{
 "cells": [
  {
   "cell_type": "code",
   "execution_count": 9,
   "metadata": {},
   "outputs": [
    {
     "name": "stdout",
     "output_type": "stream",
     "text": [
      "Requirement already satisfied: pygame in c:\\users\\admin\\appdata\\roaming\\python\\python310\\site-packages (2.1.2)\n",
      "Note: you may need to restart the kernel to use updated packages.\n"
     ]
    }
   ],
   "source": [
    "pip install -U pygame --user"
   ]
  },
  {
   "cell_type": "code",
   "execution_count": 2,
   "metadata": {},
   "outputs": [
    {
     "ename": "KeyboardInterrupt",
     "evalue": "",
     "output_type": "error",
     "traceback": [
      "\u001b[1;31m---------------------------------------------------------------------------\u001b[0m",
      "\u001b[1;31mKeyboardInterrupt\u001b[0m                         Traceback (most recent call last)",
      "Cell \u001b[1;32mIn [2], line 29\u001b[0m\n\u001b[0;32m     27\u001b[0m run \u001b[39m=\u001b[39m \u001b[39mTrue\u001b[39;00m\n\u001b[0;32m     28\u001b[0m \u001b[39mwhile\u001b[39;00m run :\n\u001b[1;32m---> 29\u001b[0m     timer\u001b[39m.\u001b[39;49mtick(fps)\n\u001b[0;32m     31\u001b[0m     screen\u001b[39m.\u001b[39mfill (\u001b[39m'\u001b[39m\u001b[39mblue\u001b[39m\u001b[39m'\u001b[39m)\n\u001b[0;32m     32\u001b[0m     screen\u001b[39m.\u001b[39mblit(text, (\u001b[39m0\u001b[39m,\u001b[39m0\u001b[39m))\n",
      "\u001b[1;31mKeyboardInterrupt\u001b[0m: "
     ]
    }
   ],
   "source": [
    "#drchuck game\n",
    "import pygame \n",
    "from pygame import mixer\n",
    "\n",
    "pygame.init()\n",
    "mixer.init()\n",
    "\n",
    "fps = 60\n",
    "timer = pygame.time.Clock()\n",
    "pygame.display.set_caption(\"Guessing Game Console\")\n",
    "font = pygame.font.Font('freesansbold.ttf', 12, bold=True)\n",
    "white = pygame.color.Color('#FFFFFF')\n",
    "text = font.render(\"Dr.Chuck's guessing game interface\", True, white)\n",
    "text1 = font.render(\"Version 1.0\", True, white)\n",
    "text2 = font.render(\"Ready...\", True, white)\n",
    "text3 = font.render(\">\", True, white)\n",
    "screen = pygame.display.set_mode((500, 500))\n",
    "user_text = ''\n",
    "im1 = pygame.image.load(\"blah-blah-blah-charles-severance.gif\")\n",
    "im2 = pygame.image.load(\"i-wanna-talk-to-you-charles-severance.gif\") \n",
    "im1_rect = im1.get_rect(topleft=(0,0))\n",
    "im2_rect = im2.get_rect(topleft=(0,0))\n",
    "\n",
    "show_image_1 = False\n",
    "show_image_2 = False\n",
    "\n",
    "run = True\n",
    "while run :\n",
    "    timer.tick(fps)\n",
    "\n",
    "    screen.fill ('blue')\n",
    "    screen.blit(text, (0,0))\n",
    "    screen.blit(text1, (0,15))\n",
    "    screen.blit(text2, (0,30))\n",
    "    screen.blit(text3, (0,45))\n",
    "    text_surface = font.render(user_text, True, (255, 255, 255))\n",
    "    screen.blit(text_surface, (10, 45))\n",
    "\n",
    "      \n",
    "\n",
    "    for event in pygame.event.get() :\n",
    "        if event.type == pygame.QUIT :\n",
    "            run = False\n",
    "        if event.type == pygame.KEYDOWN :\n",
    "            if event.key == pygame.K_BACKSPACE: \n",
    "                user_text = user_text[0:-1]\n",
    "            if event.key == pygame.K_RETURN :      \n",
    "                if user_text != '42' : \n",
    "                    show_image_1 = True\n",
    "                    mixer.music.load(\"magicword.mp3\")\n",
    "                    mixer.music.play()\n",
    "                    \n",
    "                    \n",
    "                    \n",
    "                elif user_text == '42' :\n",
    "                    show_image_2 = True\n",
    "                    mixer.music.load(\"s146IoXRVev_mp4_jUUEvKZ0.mp3\")\n",
    "                    mixer.music.play()\n",
    "\n",
    "            else :     \n",
    "                user_text += event.unicode\n",
    "    if show_image_1 :\n",
    "        scrn = pygame.display.set_mode((498,498))\n",
    "        scrn.blit(im1, im1_rect)\n",
    "    if show_image_2 :\n",
    "        scrn = pygame.display.set_mode((220, 220))\n",
    "        scrn.blit(im2, im2_rect) \n",
    "\n",
    "                \n",
    "\n",
    " \n",
    "\n",
    "    pygame.display.update()\n",
    "pygame.quit()            \n",
    "\n",
    "\n"
   ]
  }
 ],
 "metadata": {
  "kernelspec": {
   "display_name": "Python 3.10.8 64-bit",
   "language": "python",
   "name": "python3"
  },
  "language_info": {
   "codemirror_mode": {
    "name": "ipython",
    "version": 3
   },
   "file_extension": ".py",
   "mimetype": "text/x-python",
   "name": "python",
   "nbconvert_exporter": "python",
   "pygments_lexer": "ipython3",
   "version": "3.10.8"
  },
  "orig_nbformat": 4,
  "vscode": {
   "interpreter": {
    "hash": "52634da84371cba311ea128a5ea7cdc41ff074b781779e754b270ff9f8153cee"
   }
  }
 },
 "nbformat": 4,
 "nbformat_minor": 2
}
